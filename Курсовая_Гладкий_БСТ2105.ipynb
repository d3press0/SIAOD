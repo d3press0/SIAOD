{
  "nbformat": 4,
  "nbformat_minor": 0,
  "metadata": {
    "colab": {
      "provenance": [],
      "authorship_tag": "ABX9TyP5HPrz7CYvoU4oHy7e4oxJ",
      "include_colab_link": true
    },
    "kernelspec": {
      "name": "python3",
      "display_name": "Python 3"
    },
    "language_info": {
      "name": "python"
    }
  },
  "cells": [
    {
      "cell_type": "markdown",
      "metadata": {
        "id": "view-in-github",
        "colab_type": "text"
      },
      "source": [
        "<a href=\"https://colab.research.google.com/github/d3press0/SIAOD/blob/main/%D0%9A%D1%83%D1%80%D1%81%D0%BE%D0%B2%D0%B0%D1%8F_%D0%93%D0%BB%D0%B0%D0%B4%D0%BA%D0%B8%D0%B9_%D0%91%D0%A1%D0%A22105.ipynb\" target=\"_parent\"><img src=\"https://colab.research.google.com/assets/colab-badge.svg\" alt=\"Open In Colab\"/></a>"
      ]
    },
    {
      "cell_type": "markdown",
      "source": [
        "# Курсовая работа\n",
        "Написать программу, которая будет считывать данные из CSV файла, содержащего информацию о продажах товаров в магазине. Данные в файле содержатся в следующем формате: | Номер заказа | Дата заказа | Название товара | Категория товара | Количество продаж | Цена за единицу | Общая стоимость | Необходимо:\n",
        "\n",
        "1.   Рассчитать общую выручку магазина.\n",
        "2.   Найти товар, который был продан наибольшее количество раз.\n",
        "3.   Найти товар, который принес наибольшую выручку.\n",
        "4.   Составить отчет, содержащий информацию об общей выручке магазина, количестве проданных единиц каждого товар и доле каждого товара в общей выручке.\n",
        "\n",
        "Для решения задач необходимо использовать структуры данных, такие как массивы и хеш-таблицы, а также различные алгоритмы обработки данных, например, сортировку и поиск. Также необходимо учитывать возможные ошибки ввода-вывода и обрабатывать их в соответствии с требованиями."
      ],
      "metadata": {
        "id": "vfgt51mr_4xx"
      }
    },
    {
      "cell_type": "code",
      "execution_count": 1,
      "metadata": {
        "colab": {
          "base_uri": "https://localhost:8080/"
        },
        "id": "sY0qVZ1M7OjD",
        "outputId": "af0a8ef8-8af0-4d92-b4b6-2cd08959bf53"
      },
      "outputs": [
        {
          "output_type": "stream",
          "name": "stdout",
          "text": [
            "Общая выручка магазина: 241969500.0\n",
            "Товар, проданный наибольшее количество раз:\n",
            "Apple iPhone 14, Philips Hue Smart Bulbs\n",
            "Товар, принесший наибольшую выручку: Apple iPhone 14\n",
            "\n",
            "Отчет:\n",
            "Общая выручка магазина: 241969500.0\n",
            "\n",
            "Количество проданных единиц каждого товара:\n",
            "Apple iPhone 14: 500\n",
            "Samsung Galaxy S22 Ultra: 300\n",
            "Игровые приставки: 200\n",
            "LG OLED TV: 150\n",
            "Apple MacBook Pro 16: 100\n",
            "Canon EOS R7: 50\n",
            "Bose QuietComfort 55: 100\n",
            "Samsung Galaxy Tab S8: 75\n",
            "DJI Mavic 3: 25\n",
            "Philips Hue Smart Bulbs: 500\n",
            "Apple iPad Pro 12.9: 200\n",
            "Sony PlayStation 5 Pro: 100\n",
            "Samsung Galaxy Watch 5: 150\n",
            "LG UltraFine: 50\n",
            "Canon EOS R8: 75\n",
            "Bose SoundLink Revolve+: 100\n",
            "DJI Ronin 4D: 25\n",
            "Samsung Galaxy Book Pro: 50\n",
            "Philips Sonicare DiamondClean: 200\n",
            "Nest Learning Thermostat: 100\n",
            "\n",
            "Доля каждого товара в общей выручке:\n",
            "Apple iPhone 14: 18.60%\n",
            "Samsung Galaxy S22 Ultra: 12.40%\n",
            "Игровые приставки: 4.96%\n",
            "LG OLED TV: 11.16%\n",
            "Apple MacBook Pro 16: 8.27%\n",
            "Canon EOS R7: 5.17%\n",
            "Bose QuietComfort 55: 1.45%\n",
            "Samsung Galaxy Tab S8: 2.17%\n",
            "DJI Mavic 3: 1.55%\n",
            "Philips Hue Smart Bulbs: 0.62%\n",
            "Apple iPad Pro 12.9: 7.44%\n",
            "Sony PlayStation 5 Pro: 2.48%\n",
            "Samsung Galaxy Watch 5: 1.86%\n",
            "LG UltraFine: 2.07%\n",
            "Canon EOS R8: 9.30%\n",
            "Bose SoundLink Revolve+: 1.03%\n",
            "DJI Ronin 4D: 5.17%\n",
            "Samsung Galaxy Book Pro: 2.69%\n",
            "Philips Sonicare DiamondClean: 0.83%\n",
            "Nest Learning Thermostat: 0.83%\n",
            "\n"
          ]
        }
      ],
      "source": [
        "import chardet\n",
        "import csv\n",
        "import pandas as pd\n",
        "\n",
        "def read_csv_file(file_path):\n",
        "    data = []\n",
        "    with open(file_path, 'r', encoding='utf-8') as file:\n",
        "        lines = file.readlines()\n",
        "        for line in lines[1:]:  # Пропустить заголовок (первую строку)\n",
        "            row = line.strip().split(';')  # Разделить строку\n",
        "            if len(row) >= 7:  # Проверить, что строка содержит достаточное количество элементов\n",
        "                data.append(row)\n",
        "            else:\n",
        "                #print(row)\n",
        "                print(f\"Строка '{line.strip()}' не содержит достаточное количество элементов и будет пропущена.\")\n",
        "    return data\n",
        "\n",
        "\n",
        "def calculate_total_revenue(data):\n",
        "    total_revenue = 0\n",
        "    for row in data:\n",
        "        total_revenue += float(row[6])  # Индекс 6 соответствует общей стоимости\n",
        "    return total_revenue\n",
        "\n",
        "\n",
        "def find_most_sold_item(data):\n",
        "    items_sold = {}\n",
        "    max_sales = 0\n",
        "    for row in data:\n",
        "        item_name = row[2]  # Индекс 2 соответствует названию товара\n",
        "        sales = int(row[4])  # Индекс 4 соответствует количеству продаж\n",
        "        if item_name in items_sold:\n",
        "            items_sold[item_name] += sales\n",
        "        else:\n",
        "            items_sold[item_name] = sales\n",
        "        max_sales = max(max_sales, sales)\n",
        "\n",
        "    most_sold_items = [item for item, sales in items_sold.items() if sales == max_sales]\n",
        "    return most_sold_items\n",
        "\n",
        "\n",
        "def find_highest_revenue_item(data):\n",
        "    items_revenue = {}\n",
        "    for row in data:\n",
        "        item_name = row[2]  # Индекс 2 соответствует названию товара\n",
        "        if item_name in items_revenue:\n",
        "            items_revenue[item_name] += float(row[6])  # Индекс 6 соответствует общей стоимости\n",
        "        else:\n",
        "            items_revenue[item_name] = float(row[6])\n",
        "    highest_revenue_item = max(items_revenue, key=items_revenue.get)\n",
        "    return highest_revenue_item\n",
        "\n",
        "def generate_report(data):\n",
        "    total_revenue = calculate_total_revenue(data)\n",
        "    items_sold = {}\n",
        "    items_revenue = {}  # Добавленная строка\n",
        "    for row in data:\n",
        "        item_name = row[2]\n",
        "        if item_name in items_sold:\n",
        "            items_sold[item_name] += int(row[4])\n",
        "        else:\n",
        "            items_sold[item_name] = int(row[4])\n",
        "        if item_name in items_revenue:  # Добавленный блок\n",
        "            items_revenue[item_name] += float(row[6])\n",
        "        else:\n",
        "            items_revenue[item_name] = float(row[6])\n",
        "    \n",
        "    report = f\"\\nОтчет:\\n\"\n",
        "    report += f\"Общая выручка магазина: {total_revenue}\\n\\n\"\n",
        "    report += f\"Количество проданных единиц каждого товара:\\n\"\n",
        "    for item, quantity in items_sold.items():\n",
        "        report += f\"{item}: {quantity}\\n\"\n",
        "    \n",
        "    report += f\"\\nДоля каждого товара в общей выручке:\\n\"\n",
        "    for item, quantity in items_sold.items():\n",
        "        item_revenue = items_revenue[item]\n",
        "        item_share = (item_revenue / total_revenue) * 100\n",
        "        report += f\"{item}: {item_share:.2f}%\\n\"\n",
        "    \n",
        "    return report\n",
        "\n",
        "# Чтение данных из файла CSV\n",
        "file_path = \"/table.csv\"\n",
        "data = read_csv_file(file_path)\n",
        "\n",
        "# Рассчет общей выручки магазина\n",
        "total_revenue = calculate_total_revenue(data)\n",
        "most_sold_item = find_most_sold_item(data)\n",
        "highest_revenue_item = find_highest_revenue_item(data)\n",
        "report = generate_report(data)\n",
        "\n",
        "print(\"Общая выручка магазина:\", total_revenue)\n",
        "print(\"Товар, проданный наибольшее количество раз:\")\n",
        "print(*most_sold_item, sep=', ')\n",
        "print(\"Товар, принесший наибольшую выручку:\", highest_revenue_item)\n",
        "print(report)\n"
      ]
    },
    {
      "cell_type": "markdown",
      "source": [
        "Работу выполнил студент группы БСТ2105, Гладкий Александр"
      ],
      "metadata": {
        "id": "qBTSYWpdAt3J"
      }
    }
  ]
}