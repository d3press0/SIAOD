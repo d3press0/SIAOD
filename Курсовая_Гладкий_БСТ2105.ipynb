{
  "nbformat": 4,
  "nbformat_minor": 0,
  "metadata": {
    "colab": {
      "provenance": [],
      "authorship_tag": "ABX9TyP9wzyUagseuQXboebgJ4FT",
      "include_colab_link": true
    },
    "kernelspec": {
      "name": "python3",
      "display_name": "Python 3"
    },
    "language_info": {
      "name": "python"
    }
  },
  "cells": [
    {
      "cell_type": "markdown",
      "metadata": {
        "id": "view-in-github",
        "colab_type": "text"
      },
      "source": [
        "<a href=\"https://colab.research.google.com/github/d3press0/SIAOD/blob/main/%D0%9A%D1%83%D1%80%D1%81%D0%BE%D0%B2%D0%B0%D1%8F_%D0%93%D0%BB%D0%B0%D0%B4%D0%BA%D0%B8%D0%B9_%D0%91%D0%A1%D0%A22105.ipynb\" target=\"_parent\"><img src=\"https://colab.research.google.com/assets/colab-badge.svg\" alt=\"Open In Colab\"/></a>"
      ]
    },
    {
      "cell_type": "markdown",
      "source": [
        "# Курсовая работа\n",
        "Написать программу, которая будет считывать данные из CSV файла, содержащего информацию о продажах товаров в магазине. Данные в файле содержатся в следующем формате: | Номер заказа | Дата заказа | Название товара | Категория товара | Количество продаж | Цена за единицу | Общая стоимость | Необходимо:\n",
        "\n",
        "1.   Рассчитать общую выручку магазина.\n",
        "2.   Найти товар, который был продан наибольшее количество раз.\n",
        "3.   Найти товар, который принес наибольшую выручку.\n",
        "4.   Составить отчет, содержащий информацию об общей выручке магазина, количестве проданных единиц каждого товар и доле каждого товара в общей выручке.\n",
        "\n",
        "Для решения задач необходимо использовать структуры данных, такие как массивы и хеш-таблицы, а также различные алгоритмы обработки данных, например, сортировку и поиск. Также необходимо учитывать возможные ошибки ввода-вывода и обрабатывать их в соответствии с требованиями."
      ],
      "metadata": {
        "id": "vfgt51mr_4xx"
      }
    },
    {
      "cell_type": "code",
      "execution_count": 11,
      "metadata": {
        "colab": {
          "base_uri": "https://localhost:8080/"
        },
        "id": "sY0qVZ1M7OjD",
        "outputId": "15bed52b-a089-4235-9ffc-34eface1fc55"
      },
      "outputs": [
        {
          "output_type": "stream",
          "name": "stdout",
          "text": [
            "Введите название или путь к файлу: /table.csv\n",
            "\n",
            "Общий объём продаж в денежном эквиваленте: 241969500\n",
            "Самый популярный товар: Apple iPhone 14, Philips Hue Smart Bulbs\n",
            "Наиболее прибыльный товар по объёму продаж: Apple iPhone 14\n"
          ]
        }
      ],
      "source": [
        "import csv\n",
        "\n",
        "\n",
        "csv_output_data: dict = {\n",
        "    'total_sum': 0,\n",
        "    'most_sold_sum_data': {},\n",
        "}\n",
        "\n",
        "\n",
        "def positive_numeric(string: str) -> bool:\n",
        "    try:\n",
        "        return int(string) >= 0\n",
        "    except ValueError:\n",
        "        return False\n",
        "\n",
        "\n",
        "def process_row(row: dict) -> None:\n",
        "    sum_name: str = 'Общая стоимость'\n",
        "    product_name: str = 'Название товара'\n",
        "    sold_name: str = 'Количество продаж'\n",
        "\n",
        "    if sum_name in row:\n",
        "        csv_output_data['total_sum'] += row[sum_name]\n",
        "\n",
        "    if product_name in row and sold_name in row:\n",
        "        if not (row[product_name] in csv_output_data['most_sold_sum_data']):\n",
        "            csv_output_data['most_sold_sum_data'][row[product_name]] = {\n",
        "                'count': row[sold_name],\n",
        "                'sum': row[sum_name],\n",
        "            }\n",
        "        else:\n",
        "            csv_output_data['most_sold_sum_data'][row[product_name]]['count'] += row[sold_name]\n",
        "            csv_output_data['most_sold_sum_data'][row[product_name]]['sum'] += row[sum_name]\n",
        "\n",
        "\n",
        "def process_input_file() -> list[dict]:\n",
        "    file_name: str = input('Введите название или путь к файлу: ')\n",
        "\n",
        "    if not file_name.endswith('.csv'):\n",
        "        file_name += '.csv'\n",
        "\n",
        "    try:\n",
        "        file = open(file_name, encoding='utf-8')\n",
        "    except FileNotFoundError:\n",
        "        return []\n",
        "\n",
        "    columns: list[str] = file.readline().replace('\\n', '').split(';')\n",
        "\n",
        "    data: list[dict] = []\n",
        "    csv_stream = csv.reader(file, delimiter=';')\n",
        "    for row in csv_stream:\n",
        "        column_number: int = 0\n",
        "        temp_data = {}\n",
        "\n",
        "        for i in range(len(row)):\n",
        "            correct_int_type: bool = False\n",
        "\n",
        "            if i >= len(row) - 3:\n",
        "                if not positive_numeric(row[i]):\n",
        "                    break\n",
        "\n",
        "                correct_int_type = True\n",
        "\n",
        "            temp_data[columns[column_number]] = int(row[i]) if correct_int_type else row[i]\n",
        "            column_number += 1\n",
        "\n",
        "        if len(temp_data.keys()) != 7:\n",
        "            continue\n",
        "        data.append(temp_data)\n",
        "        process_row(temp_data)\n",
        "\n",
        "    return data\n",
        "\n",
        "\n",
        "def generate_report() -> None:\n",
        "    file = open('report.txt', 'w')\n",
        "\n",
        "    total_sum: int = csv_output_data['total_sum']\n",
        "    file.write('Общая выручка магазина: {}\\n\\n'.format(total_sum))\n",
        "    for item in csv_output_data['most_sold_sum_data'].items():\n",
        "        percent: float = float(item[1]['sum']) / total_sum\n",
        "        file.write(\n",
        "            'Товар {} был продан {} раз(а). Доля в общей выручке: {:.2%}\\n'.format(item[0], item[1]['count'], percent)\n",
        "        )\n",
        "\n",
        "    file.close()\n",
        "\n",
        "\n",
        "def calculate_most_sold_by_column(column: str = 'count') -> list[str]:\n",
        "    sorted_data = sorted(\n",
        "        csv_output_data['most_sold_sum_data'].items(),\n",
        "        key=lambda i: i[1][column],\n",
        "        reverse=True,\n",
        "    )\n",
        "\n",
        "    max_count: int = sorted_data[0][1][column]\n",
        "    names: list[str] = []\n",
        "    for item in sorted_data:\n",
        "        if max_count == item[1][column]:\n",
        "            names.append(item[0])\n",
        "        else:\n",
        "            break\n",
        "\n",
        "    return names\n",
        "\n",
        "\n",
        "def main() -> None:\n",
        "    while not process_input_file():\n",
        "        print('Файл не был найден или он не содержит информацию')\n",
        "\n",
        "    print('\\nОбщий объём продаж в денежном эквиваленте:', csv_output_data['total_sum'])\n",
        "    print('Самый популярный товар:', ', '.join(calculate_most_sold_by_column()))\n",
        "    print('Наиболее прибыльный товар по объёму продаж:', ', '.join(calculate_most_sold_by_column('sum')))\n",
        "\n",
        "    generate_report()\n",
        "\n",
        "if __name__ == '__main__':\n",
        "    main()\n",
        "\n",
        "    "
      ]
    },
    {
      "cell_type": "markdown",
      "source": [
        "Работу выполнил студент группы БСТ2105, Гладкий Александр"
      ],
      "metadata": {
        "id": "qBTSYWpdAt3J"
      }
    }
  ]
}